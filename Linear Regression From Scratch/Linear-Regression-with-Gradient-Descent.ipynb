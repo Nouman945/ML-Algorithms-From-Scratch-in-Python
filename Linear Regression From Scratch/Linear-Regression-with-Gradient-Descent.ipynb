{
 "cells": [
  {
   "cell_type": "code",
   "execution_count": 115,
   "metadata": {},
   "outputs": [],
   "source": [
    "from numpy import*"
   ]
  },
  {
   "cell_type": "code",
   "execution_count": 116,
   "metadata": {},
   "outputs": [],
   "source": [
    "def gradient_descent_runner(points,starting_b,starting_m,learning_rate,num_iterations):\n",
    "    b = starting_b\n",
    "    m = starting_m\n",
    "    \n",
    "    for i in range(num_iterations):\n",
    "        b , m = step_gradient(b,m,array(points),learning_rate)\n",
    "    return [b,m]"
   ]
  },
  {
   "cell_type": "code",
   "execution_count": 133,
   "metadata": {},
   "outputs": [],
   "source": [
    "def step_gradient(b_current,m_current,points,learning_rate):\n",
    "    #gradient Descent\n",
    "    b_gradient = 0\n",
    "    m_gradient = 0\n",
    "    N = float(len(points))\n",
    "    for i in range(0,len(points)):\n",
    "        x = points[i,0]\n",
    "        y = points[i,1]\n",
    "        b_gradient += -(2/N) * (y - (( m_current * x ) + b_current ))\n",
    "        #b_gradient += -learning_rate * (1/N) * (y - (( m_current * x ) + b_current ))\n",
    "        m_gradient += -(2/N) * x * (y - (( m_current * x ) + b_current ))\n",
    "        #m_gradient += -learning_rate * (1/N) * x *(y - (( m_current * x ) + b_current ))\n",
    "    new_b = b_current - (learning_rate * b_gradient)\n",
    "    new_m = m_current - (learning_rate * m_gradient)\n",
    "    #new_b = b_gradient\n",
    "    #new_m = m_gradient\n",
    "    return [new_b,new_m]"
   ]
  },
  {
   "cell_type": "code",
   "execution_count": 134,
   "metadata": {},
   "outputs": [],
   "source": [
    "def compute_error_for_given_points(b,m,points):\n",
    "    total_Error = 0\n",
    "    for i in range(0,len(points)):\n",
    "        x = points[i,0]\n",
    "        y = points[i,1]\n",
    "        total_Error += (y-(m*x+b))**2\n",
    "        print(total_Error)\n",
    "    return total_Error/float(len(points))"
   ]
  },
  {
   "cell_type": "code",
   "execution_count": 135,
   "metadata": {},
   "outputs": [],
   "source": [
    "def run():\n",
    "    points = genfromtxt('data.csv',delimiter=',')\n",
    "    learning_rate = 0.0001\n",
    "    #y=mx+b\n",
    "    initial_b = 0\n",
    "    initial_m = 0\n",
    "    num_iterations = 1000\n",
    "    [b,m] = gradient_descent_runner(points,initial_b,initial_m,learning_rate,num_iterations)\n",
    "    print(\"value of B is :\" , b)\n",
    "    print(\"value o-f m is :\" , m)"
   ]
  },
  {
   "cell_type": "code",
   "execution_count": 136,
   "metadata": {},
   "outputs": [
    {
     "name": "stdout",
     "output_type": "stream",
     "text": [
      "value of B is : 0.08893651993741346\n",
      "value of m is : 1.4777440851894448\n"
     ]
    }
   ],
   "source": [
    "if __name__ == '__main__':\n",
    "    run()"
   ]
  },
  {
   "cell_type": "code",
   "execution_count": null,
   "metadata": {},
   "outputs": [],
   "source": []
  },
  {
   "cell_type": "code",
   "execution_count": null,
   "metadata": {},
   "outputs": [],
   "source": []
  },
  {
   "cell_type": "code",
   "execution_count": null,
   "metadata": {},
   "outputs": [],
   "source": []
  }
 ],
 "metadata": {
  "kernelspec": {
   "display_name": "Python 3",
   "language": "python",
   "name": "python3"
  },
  "language_info": {
   "codemirror_mode": {
    "name": "ipython",
    "version": 3
   },
   "file_extension": ".py",
   "mimetype": "text/x-python",
   "name": "python",
   "nbconvert_exporter": "python",
   "pygments_lexer": "ipython3",
   "version": "3.7.3"
  }
 },
 "nbformat": 4,
 "nbformat_minor": 2
}
